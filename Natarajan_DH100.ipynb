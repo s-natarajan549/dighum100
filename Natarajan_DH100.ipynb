{
  "nbformat": 4,
  "nbformat_minor": 0,
  "metadata": {
    "colab": {
      "name": "Natarajan_DH100.ipynb",
      "provenance": [],
      "collapsed_sections": []
    },
    "kernelspec": {
      "name": "python3",
      "display_name": "Python 3"
    },
    "language_info": {
      "name": "python"
    }
  },
  "cells": [
    {
      "cell_type": "markdown",
      "metadata": {
        "id": "pA04jt4511dx"
      },
      "source": [
        "## **Exploring Media Coverage of Climate Change**\n",
        "\n",
        "\n",
        "DIGHUM 100 | Dr. Anderson | Shruti Natarajan "
      ]
    },
    {
      "cell_type": "markdown",
      "metadata": {
        "id": "4tfY3ObErPdY"
      },
      "source": [
        "### I. Project Introduction: \n",
        "Climate change and environmental issues have gained much more attention from the public over the last several decades.  For this project, I wanted to explore how climate change information is expressed and received from various news outlets.  \n",
        "\n",
        "###II. Research Questions: \n",
        "1. What topics and questions are most frequently being discussed in major news sources regarding climate change? \n",
        "2. What sentiments do the media have towards this issue? \n",
        "3. How much are different countries discussing climate change in their media relative to the United States?  \n",
        "\n",
        "###III. Datasets and Tools: \n",
        "1. Global Warming News Articles from A Dataset for Information Spreading over the News by Abdul Sittar, Dunja Mladenic, and Tomaz Erjavec.  \n",
        "Link to this dataset: https://zenodo.org/record/3950065#.YN62fOjYrrc\n",
        "\n",
        "2. Dataset for Newspaper Articles on Climate Change since 2000 \n",
        "Link to this dataset: https://search.datacite.org/works/10.25810/c862-0e81\n",
        "\n",
        "\n",
        "Methods Used: \n",
        "1. Overview Docs\n",
        "2. matplotlib\n",
        "3. LDA Topic Modelling \n",
        "\n",
        "\n",
        "\n",
        "\n"
      ]
    },
    {
      "cell_type": "code",
      "metadata": {
        "id": "o53J42Oy7noP"
      },
      "source": [
        "import pandas as pd\n",
        "import numpy as np\n",
        "import matplotlib.pyplot as plt\n"
      ],
      "execution_count": null,
      "outputs": []
    },
    {
      "cell_type": "markdown",
      "metadata": {
        "id": "MyGefVUoyQBR"
      },
      "source": [
        "Now uploading the datasets: \n"
      ]
    },
    {
      "cell_type": "code",
      "metadata": {
        "id": "13l6CEizyrIG"
      },
      "source": [
        "from google.colab import files\n",
        "\n",
        "uploaded = files.upload()\n",
        "\n",
        "for fn in uploaded.keys():\n",
        "  print('User uploaded file \"{name}\" with length {length} bytes'.format(\n",
        "      name=fn, length=len(uploaded[fn])))"
      ],
      "execution_count": null,
      "outputs": []
    },
    {
      "cell_type": "code",
      "metadata": {
        "colab": {
          "base_uri": "https://localhost:8080/",
          "height": 915
        },
        "id": "I0hnZTtSyyGf",
        "outputId": "42fd9aee-cba4-4ddb-b910-d5f4223a5d11"
      },
      "source": [
        "from google.colab import auth\n",
        "auth.authenticate_user()\n",
        "\n",
        "import gspread\n",
        "from oauth2client.client import GoogleCredentials\n",
        "\n",
        "gc = gspread.authorize(GoogleCredentials.get_application_default())\n",
        "\n",
        "worksheet = gc.open('GlobalWarming - Metadata').sheet1\n",
        "\n",
        "# get_all_values gives a list of rows.\n",
        "rows = worksheet.get_all_values()\n",
        "#print(rows)\n",
        "\n",
        "# Convert to a DataFrame and render.\n",
        "import pandas as pd\n",
        "pd.DataFrame.from_records(rows)"
      ],
      "execution_count": 30,
      "outputs": [
        {
          "output_type": "execute_result",
          "data": {
            "text/html": [
              "<div>\n",
              "<style scoped>\n",
              "    .dataframe tbody tr th:only-of-type {\n",
              "        vertical-align: middle;\n",
              "    }\n",
              "\n",
              "    .dataframe tbody tr th {\n",
              "        vertical-align: top;\n",
              "    }\n",
              "\n",
              "    .dataframe thead th {\n",
              "        text-align: right;\n",
              "    }\n",
              "</style>\n",
              "<table border=\"1\" class=\"dataframe\">\n",
              "  <thead>\n",
              "    <tr style=\"text-align: right;\">\n",
              "      <th></th>\n",
              "      <th>0</th>\n",
              "      <th>1</th>\n",
              "      <th>2</th>\n",
              "      <th>3</th>\n",
              "      <th>4</th>\n",
              "      <th>5</th>\n",
              "      <th>6</th>\n",
              "      <th>7</th>\n",
              "      <th>8</th>\n",
              "    </tr>\n",
              "  </thead>\n",
              "  <tbody>\n",
              "    <tr>\n",
              "      <th>0</th>\n",
              "      <td>Language+ID</td>\n",
              "      <td>Event</td>\n",
              "      <td>Weight</td>\n",
              "      <td>Class</td>\n",
              "      <td>Target</td>\n",
              "      <td>Source</td>\n",
              "      <td>Publishing Time</td>\n",
              "      <td>Website</td>\n",
              "      <td>Article url</td>\n",
              "    </tr>\n",
              "    <tr>\n",
              "      <th>1</th>\n",
              "      <td>English1</td>\n",
              "      <td>Global Warming (en)</td>\n",
              "      <td>0.226</td>\n",
              "      <td>Information-Not-Propagated</td>\n",
              "      <td>New bugs- found in Kenya- can help to control ...</td>\n",
              "      <td>Nigeria Sun</td>\n",
              "      <td>2020-4-29T7:35:00Z</td>\n",
              "      <td>nigeriasun.com</td>\n",
              "      <td>https://www.nigeriasun.com/news/264880895/new-...</td>\n",
              "    </tr>\n",
              "    <tr>\n",
              "      <th>2</th>\n",
              "      <td>English10</td>\n",
              "      <td>Global Warming (en)</td>\n",
              "      <td>0.284</td>\n",
              "      <td>Information-Not-Propagated</td>\n",
              "      <td>Billie Eilish &amp; Finneas Perform Live Acoustic ...</td>\n",
              "      <td>American Songwriter</td>\n",
              "      <td>2020-4-29T6:18:00Z</td>\n",
              "      <td>americansongwriter.com</td>\n",
              "      <td>https://americansongwriter.com/billie-eilish-f...</td>\n",
              "    </tr>\n",
              "    <tr>\n",
              "      <th>3</th>\n",
              "      <td>English100</td>\n",
              "      <td>Global Warming (en)</td>\n",
              "      <td>0.386</td>\n",
              "      <td>Information-Not-Propagated</td>\n",
              "      <td>Pruitt guts EPA science panels- will appoint n...</td>\n",
              "      <td>Jim Roberts Realty</td>\n",
              "      <td>2017-10-31T23:54:00Z</td>\n",
              "      <td>dothaneagle.com</td>\n",
              "      <td>http://www.dothaneagle.com/news/ap/business/pr...</td>\n",
              "    </tr>\n",
              "    <tr>\n",
              "      <th>4</th>\n",
              "      <td>English101</td>\n",
              "      <td>Global Warming (en)</td>\n",
              "      <td>0.353</td>\n",
              "      <td>Information-Not-Propagated</td>\n",
              "      <td>Earth to overshoot global warming targets- U.N...</td>\n",
              "      <td>Yahoo</td>\n",
              "      <td>2017-10-31T23:34:00Z</td>\n",
              "      <td>yahoo.com</td>\n",
              "      <td>https://www.yahoo.com/news/apos-track-blow-pas...</td>\n",
              "    </tr>\n",
              "    <tr>\n",
              "      <th>...</th>\n",
              "      <td>...</td>\n",
              "      <td>...</td>\n",
              "      <td>...</td>\n",
              "      <td>...</td>\n",
              "      <td>...</td>\n",
              "      <td>...</td>\n",
              "      <td>...</td>\n",
              "      <td>...</td>\n",
              "      <td>...</td>\n",
              "    </tr>\n",
              "    <tr>\n",
              "      <th>1941</th>\n",
              "      <td>Spanish95</td>\n",
              "      <td>Global Warming (sp)</td>\n",
              "      <td>0.336</td>\n",
              "      <td>Information-Not-Propagated</td>\n",
              "      <td>La Gran Barrera australiana sufre una reducció...</td>\n",
              "      <td>EL PAÍS</td>\n",
              "      <td>2019-04-03T17:04:00Z</td>\n",
              "      <td>elpais.com</td>\n",
              "      <td>https://elpais.com/elpais/2019/04/03/ciencia/1...</td>\n",
              "    </tr>\n",
              "    <tr>\n",
              "      <th>1942</th>\n",
              "      <td>Spanish96</td>\n",
              "      <td>Global Warming (sp)</td>\n",
              "      <td>0.221</td>\n",
              "      <td>Information-Not-Propagated</td>\n",
              "      <td>La Teledetección en la Caracterización del Rég...</td>\n",
              "      <td>The Open University</td>\n",
              "      <td>2019-03-18T17:04:00Z</td>\n",
              "      <td>oro.open.ac.uk</td>\n",
              "      <td>http://oro.open.ac.uk/59612/</td>\n",
              "    </tr>\n",
              "    <tr>\n",
              "      <th>1943</th>\n",
              "      <td>Spanish97</td>\n",
              "      <td>Global Warming (sp)</td>\n",
              "      <td>0.33</td>\n",
              "      <td>Information-Not-Propagated</td>\n",
              "      <td>El grupo del 3%: qué piensan los científicos e...</td>\n",
              "      <td>Ambito</td>\n",
              "      <td>2019-03-09T03:09:00Z</td>\n",
              "      <td>ambito.com</td>\n",
              "      <td>https://www.ambito.com/el-grupo-del-3-que-pien...</td>\n",
              "    </tr>\n",
              "    <tr>\n",
              "      <th>1944</th>\n",
              "      <td>Spanish98</td>\n",
              "      <td>Global Warming (sp)</td>\n",
              "      <td>0.386</td>\n",
              "      <td>Information-Not-Propagated</td>\n",
              "      <td>Las mujeres son la clave para poner freno al c...</td>\n",
              "      <td>CNN Español</td>\n",
              "      <td>2019-03-09T01:39:00Z</td>\n",
              "      <td>cnnespanol.cnn.com</td>\n",
              "      <td>https://cnnespanol.cnn.com/2019/03/08/las-muje...</td>\n",
              "    </tr>\n",
              "    <tr>\n",
              "      <th>1945</th>\n",
              "      <td>Spanish99</td>\n",
              "      <td>Global Warming (sp)</td>\n",
              "      <td>0.722</td>\n",
              "      <td>Information-Propagated</td>\n",
              "      <td>OPINIÓN: Las mujeres tienen la clave para cont...</td>\n",
              "      <td>Expansión</td>\n",
              "      <td>2019-03-08T15:58:00Z</td>\n",
              "      <td>expansion.mx</td>\n",
              "      <td>https://expansion.mx/opinion/2019/03/08/opinio...</td>\n",
              "    </tr>\n",
              "  </tbody>\n",
              "</table>\n",
              "<p>1946 rows × 9 columns</p>\n",
              "</div>"
            ],
            "text/plain": [
              "                0  ...                                                  8\n",
              "0     Language+ID  ...                                        Article url\n",
              "1        English1  ...  https://www.nigeriasun.com/news/264880895/new-...\n",
              "2       English10  ...  https://americansongwriter.com/billie-eilish-f...\n",
              "3      English100  ...  http://www.dothaneagle.com/news/ap/business/pr...\n",
              "4      English101  ...  https://www.yahoo.com/news/apos-track-blow-pas...\n",
              "...           ...  ...                                                ...\n",
              "1941    Spanish95  ...  https://elpais.com/elpais/2019/04/03/ciencia/1...\n",
              "1942    Spanish96  ...                       http://oro.open.ac.uk/59612/\n",
              "1943    Spanish97  ...  https://www.ambito.com/el-grupo-del-3-que-pien...\n",
              "1944    Spanish98  ...  https://cnnespanol.cnn.com/2019/03/08/las-muje...\n",
              "1945    Spanish99  ...  https://expansion.mx/opinion/2019/03/08/opinio...\n",
              "\n",
              "[1946 rows x 9 columns]"
            ]
          },
          "metadata": {
            "tags": []
          },
          "execution_count": 30
        }
      ]
    },
    {
      "cell_type": "code",
      "metadata": {
        "colab": {
          "base_uri": "https://localhost:8080/",
          "height": 334
        },
        "id": "QtvqZSBwVdeG",
        "outputId": "535b0a28-73c9-4ea9-ec08-d7fe64326ff4"
      },
      "source": [
        "from google.colab import auth\n",
        "auth.authenticate_user()\n",
        "\n",
        "import gspread\n",
        "from oauth2client.client import GoogleCredentials\n",
        "\n",
        "gc = gspread.authorize(GoogleCredentials.get_application_default())\n",
        "\n",
        "worksheet = gc.open('newspaper_countries_data').sheet1\n",
        "\n",
        "# get_all_values gives a list of rows.\n",
        "rows = worksheet.get_all_values()\n",
        "print(rows)\n",
        "\n",
        "# Convert to a DataFrame and render.\n",
        "import pandas as pd\n",
        "pd.DataFrame.from_records(rows)"
      ],
      "execution_count": null,
      "outputs": [
        {
          "output_type": "stream",
          "text": [
            "[['Country', '2000', '2005', '2010', '2015', '2020'], ['USA', '941', '1494', '2563', '3516', '6235'], ['Japan', '2640', '4355', '5458', '2970', '3292'], ['UK ', '1463', '3933', '6440', '9306', '10983'], ['Sweden ', '124', '179', '311', '452', '874'], ['India', '182', '599', '2825', '3677', '3788'], ['Spain ', '459', '1104', '1089', '1412', '2312'], ['Russia ', '28', '169', '328', '212', '316']]\n"
          ],
          "name": "stdout"
        },
        {
          "output_type": "execute_result",
          "data": {
            "text/html": [
              "<div>\n",
              "<style scoped>\n",
              "    .dataframe tbody tr th:only-of-type {\n",
              "        vertical-align: middle;\n",
              "    }\n",
              "\n",
              "    .dataframe tbody tr th {\n",
              "        vertical-align: top;\n",
              "    }\n",
              "\n",
              "    .dataframe thead th {\n",
              "        text-align: right;\n",
              "    }\n",
              "</style>\n",
              "<table border=\"1\" class=\"dataframe\">\n",
              "  <thead>\n",
              "    <tr style=\"text-align: right;\">\n",
              "      <th></th>\n",
              "      <th>0</th>\n",
              "      <th>1</th>\n",
              "      <th>2</th>\n",
              "      <th>3</th>\n",
              "      <th>4</th>\n",
              "      <th>5</th>\n",
              "    </tr>\n",
              "  </thead>\n",
              "  <tbody>\n",
              "    <tr>\n",
              "      <th>0</th>\n",
              "      <td>Country</td>\n",
              "      <td>2000</td>\n",
              "      <td>2005</td>\n",
              "      <td>2010</td>\n",
              "      <td>2015</td>\n",
              "      <td>2020</td>\n",
              "    </tr>\n",
              "    <tr>\n",
              "      <th>1</th>\n",
              "      <td>USA</td>\n",
              "      <td>941</td>\n",
              "      <td>1494</td>\n",
              "      <td>2563</td>\n",
              "      <td>3516</td>\n",
              "      <td>6235</td>\n",
              "    </tr>\n",
              "    <tr>\n",
              "      <th>2</th>\n",
              "      <td>Japan</td>\n",
              "      <td>2640</td>\n",
              "      <td>4355</td>\n",
              "      <td>5458</td>\n",
              "      <td>2970</td>\n",
              "      <td>3292</td>\n",
              "    </tr>\n",
              "    <tr>\n",
              "      <th>3</th>\n",
              "      <td>UK</td>\n",
              "      <td>1463</td>\n",
              "      <td>3933</td>\n",
              "      <td>6440</td>\n",
              "      <td>9306</td>\n",
              "      <td>10983</td>\n",
              "    </tr>\n",
              "    <tr>\n",
              "      <th>4</th>\n",
              "      <td>Sweden</td>\n",
              "      <td>124</td>\n",
              "      <td>179</td>\n",
              "      <td>311</td>\n",
              "      <td>452</td>\n",
              "      <td>874</td>\n",
              "    </tr>\n",
              "    <tr>\n",
              "      <th>5</th>\n",
              "      <td>India</td>\n",
              "      <td>182</td>\n",
              "      <td>599</td>\n",
              "      <td>2825</td>\n",
              "      <td>3677</td>\n",
              "      <td>3788</td>\n",
              "    </tr>\n",
              "    <tr>\n",
              "      <th>6</th>\n",
              "      <td>Spain</td>\n",
              "      <td>459</td>\n",
              "      <td>1104</td>\n",
              "      <td>1089</td>\n",
              "      <td>1412</td>\n",
              "      <td>2312</td>\n",
              "    </tr>\n",
              "    <tr>\n",
              "      <th>7</th>\n",
              "      <td>Russia</td>\n",
              "      <td>28</td>\n",
              "      <td>169</td>\n",
              "      <td>328</td>\n",
              "      <td>212</td>\n",
              "      <td>316</td>\n",
              "    </tr>\n",
              "  </tbody>\n",
              "</table>\n",
              "</div>"
            ],
            "text/plain": [
              "         0     1     2     3     4      5\n",
              "0  Country  2000  2005  2010  2015   2020\n",
              "1      USA   941  1494  2563  3516   6235\n",
              "2    Japan  2640  4355  5458  2970   3292\n",
              "3      UK   1463  3933  6440  9306  10983\n",
              "4  Sweden    124   179   311   452    874\n",
              "5    India   182   599  2825  3677   3788\n",
              "6   Spain    459  1104  1089  1412   2312\n",
              "7  Russia     28   169   328   212    316"
            ]
          },
          "metadata": {
            "tags": []
          },
          "execution_count": 1
        }
      ]
    },
    {
      "cell_type": "markdown",
      "metadata": {
        "id": "xVOc87aX9Hhp"
      },
      "source": [
        "### IV. Data Analysis\n",
        "A. Common Words: The actual news articles are .txt files stored in a folder. I passed them through Overview Docs to see commonly mentioned words. Here are the results: \n",
        "\n",
        "![Screenshot 2021-07-02 12.23.36 AM.png](data:image/png;base64,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)\n",
        "\n",
        "\n",
        "\n",
        "\n",
        "\n",
        "\n"
      ]
    },
    {
      "cell_type": "markdown",
      "metadata": {
        "id": "qKKWHxhwmawU"
      },
      "source": [
        "B. Country Newspaper Comparison: The frequency at which different countries publish newspaper articles about climate change may be indicative of the overall sentiment towards the issue. We have datasets of the quantity of climate-change related articles from different publishing companies from the UK, India, Russia, Japan, Spain, and Sweden. I manually compressed the data into a spreadsheet that counts the number of climate change discussions in the years 2000, 2005, 2010, 2015, and 2020. Let's turn this into a graph using matplotlib. "
      ]
    },
    {
      "cell_type": "code",
      "metadata": {
        "colab": {
          "base_uri": "https://localhost:8080/",
          "height": 279
        },
        "id": "EL_uvE-MO_yJ",
        "outputId": "2ab69cbe-c1e0-4e4f-e8ad-4bdbddae7b2e"
      },
      "source": [
        "import matplotlib.pyplot as plt\n",
        "import numpy as np\n",
        "\n",
        "labels = ['2000', '2005', '2010', '2015', '2020']\n",
        "usa =  [941, 1494, 2563, 3516, 6235]\n",
        "japan = [2640, 4355, 5458, 2970, 3292]\n",
        "UK = [1463, 3933, 6440, 9306, 10983]\n",
        "sweden = [124, 179, 311, 452, 874]\n",
        "india = [182, 599, 2825, 3677, 3788]\n",
        "spain = [459, 1104, 1089, 1412, 2312]\n",
        "russia = [28, 169, 328, 212, 316]\n",
        "\n",
        "x = np.arange(len(labels))\n",
        "width = 0.8 \n",
        "\n",
        "fig, ax = plt.subplots()\n",
        "rects1 = ax.bar(x-3*(width/7), usa, width/7, label='USA')\n",
        "rects2 = ax.bar(x - 2*(width/7), japan, width/7, label = \"Japan\")\n",
        "rects3 = ax.bar(x - 1*(width/7), UK, width/7, label = \"UK\")\n",
        "rects4 = ax.bar(x - 0*(width/7), sweden, width/7, label = \"Sweden\")\n",
        "rects5 = ax.bar(x + 1*(width/7), india, width/7, label = \"India\")\n",
        "rects6 = ax.bar(x + 2*(width/7), spain, width/7, label = \"Spain\")\n",
        "rects7 = ax.bar(x + 3*(width/7), russia, width/7, label = \"Russia\")\n",
        "\n",
        "ax.set_ylabel(\"Number of Articles\")\n",
        "ax.set_xlabel(\"Number of Climate-Change Articles Published Per Year\")\n",
        "ax.set_xticks(x)\n",
        "ax.set_xticklabels(labels)\n",
        "ax.legend()\n",
        "\n",
        "\n",
        "\n",
        "\n",
        "plt.show() \n",
        "\n",
        "\n",
        "\n"
      ],
      "execution_count": null,
      "outputs": [
        {
          "output_type": "display_data",
          "data": {
            "image/png": "[encoded data removed]",
            "text/plain": [
              "<Figure size 432x288 with 1 Axes>"
            ]
          },
          "metadata": {
            "tags": [],
            "needs_background": "light"
          }
        }
      ]
    },
    {
      "cell_type": "markdown",
      "metadata": {
        "id": "oq0k6Dxe_VkD"
      },
      "source": [
        "D. LDA on news article titles: What are some of the general or standout topics being discussed? I manually imported twenty random papers from the set of 1000 into a spreadsheet to analyze using LDA topic analysis. "
      ]
    },
    {
      "cell_type": "code",
      "metadata": {
        "colab": {
          "base_uri": "https://localhost:8080/",
          "height": 204
        },
        "id": "5yYBL3Hp4Q7M",
        "outputId": "2724e09d-ff2a-4101-d692-b256eb035512"
      },
      "source": [
        "#first import csv file. \n",
        "import pandas as pd\n",
        "import os\n",
        "\n",
        "os.chdir('..')\n",
        "\n",
        "# Read data into papers\n",
        "papers = pd.read_csv('./home/twenty_random_papers.csv')\n",
        "\n",
        "# Print head\n",
        "papers.head()\n"
      ],
      "execution_count": null,
      "outputs": [
        {
          "output_type": "execute_result",
          "data": {
            "text/html": [
              "<div>\n",
              "<style scoped>\n",
              "    .dataframe tbody tr th:only-of-type {\n",
              "        vertical-align: middle;\n",
              "    }\n",
              "\n",
              "    .dataframe tbody tr th {\n",
              "        vertical-align: top;\n",
              "    }\n",
              "\n",
              "    .dataframe thead th {\n",
              "        text-align: right;\n",
              "    }\n",
              "</style>\n",
              "<table border=\"1\" class=\"dataframe\">\n",
              "  <thead>\n",
              "    <tr style=\"text-align: right;\">\n",
              "      <th></th>\n",
              "      <th>paper_number</th>\n",
              "      <th>paper_text</th>\n",
              "    </tr>\n",
              "  </thead>\n",
              "  <tbody>\n",
              "    <tr>\n",
              "      <th>0</th>\n",
              "      <td>1</td>\n",
              "      <td>Insect pests- such as maize stemborers and fal...</td>\n",
              "    </tr>\n",
              "    <tr>\n",
              "      <th>1</th>\n",
              "      <td>2</td>\n",
              "      <td>Last week on April 22 the world marked the 50t...</td>\n",
              "    </tr>\n",
              "    <tr>\n",
              "      <th>2</th>\n",
              "      <td>55</td>\n",
              "      <td>Mandatory lockdowns imposed by many government...</td>\n",
              "    </tr>\n",
              "    <tr>\n",
              "      <th>3</th>\n",
              "      <td>86</td>\n",
              "      <td>A record-breaking ozone hole that formed over ...</td>\n",
              "    </tr>\n",
              "    <tr>\n",
              "      <th>4</th>\n",
              "      <td>102</td>\n",
              "      <td>Watch our editor-in-chief Koert Debeuf explain...</td>\n",
              "    </tr>\n",
              "  </tbody>\n",
              "</table>\n",
              "</div>"
            ],
            "text/plain": [
              "   paper_number                                         paper_text\n",
              "0             1  Insect pests- such as maize stemborers and fal...\n",
              "1             2  Last week on April 22 the world marked the 50t...\n",
              "2            55  Mandatory lockdowns imposed by many government...\n",
              "3            86  A record-breaking ozone hole that formed over ...\n",
              "4           102  Watch our editor-in-chief Koert Debeuf explain..."
            ]
          },
          "metadata": {
            "tags": []
          },
          "execution_count": 22
        }
      ]
    },
    {
      "cell_type": "code",
      "metadata": {
        "colab": {
          "base_uri": "https://localhost:8080/"
        },
        "id": "jm4C-yml6l7X",
        "outputId": "97ebc0b0-1c26-4351-a99c-ae7a8698f7bc"
      },
      "source": [
        "import re\n",
        "\n",
        "# Remove punctuation\n",
        "papers['paper_text_processed'] = \\\n",
        "papers['paper_text'].map(lambda x: re.sub('[,\\.!?]', '', x))\n",
        "\n",
        "# Convert the titles to lowercase\n",
        "papers['paper_text_processed'] = \\\n",
        "papers['paper_text_processed'].map(lambda x: x.lower())\n",
        "\n",
        "# Print out the first rows of papers\n",
        "papers['paper_text_processed'].head()"
      ],
      "execution_count": null,
      "outputs": [
        {
          "output_type": "execute_result",
          "data": {
            "text/plain": [
              "0    insect pests- such as maize stemborers and fal...\n",
              "1    last week on april 22 the world marked the 50t...\n",
              "2    mandatory lockdowns imposed by many government...\n",
              "3    a record-breaking ozone hole that formed over ...\n",
              "4    watch our editor-in-chief koert debeuf explain...\n",
              "Name: paper_text_processed, dtype: object"
            ]
          },
          "metadata": {
            "tags": []
          },
          "execution_count": 24
        }
      ]
    },
    {
      "cell_type": "code",
      "metadata": {
        "colab": {
          "base_uri": "https://localhost:8080/"
        },
        "id": "EV1mbfm26w7z",
        "outputId": "b670cd15-7154-4948-817e-e167b54f4ddc"
      },
      "source": [
        "#Now is analysis! \n",
        "\n",
        "import gensim\n",
        "from gensim.utils import simple_preprocess\n",
        "import nltk\n",
        "nltk.download('stopwords')\n",
        "from nltk.corpus import stopwords\n",
        "\n",
        "stop_words = stopwords.words('english')\n",
        "stop_words.extend(['from', 'subject', 're', 'edu', 'use'])\n",
        "\n",
        "def sent_to_words(sentences):\n",
        "    for sentence in sentences:\n",
        "        # deacc=True removes punctuations\n",
        "        yield(gensim.utils.simple_preprocess(str(sentence), deacc=True))\n",
        "\n",
        "def remove_stopwords(texts):\n",
        "    return [[word for word in simple_preprocess(str(doc)) \n",
        "             if word not in stop_words] for doc in texts]\n",
        "\n",
        "\n",
        "data = papers.paper_text_processed.values.tolist()\n",
        "data_words = list(sent_to_words(data))\n",
        "\n",
        "# remove stop words\n",
        "data_words = remove_stopwords(data_words)\n",
        "\n",
        "print(data_words[:1][0][:30])"
      ],
      "execution_count": null,
      "outputs": [
        {
          "output_type": "stream",
          "text": [
            "[nltk_data] Downloading package stopwords to /root/nltk_data...\n",
            "[nltk_data]   Unzipping corpora/stopwords.zip.\n",
            "['insect', 'pests', 'maize', 'stemborers', 'fall', 'armyworm', 'increasingly', 'challenge', 'food', 'production', 'around', 'world', 'huge', 'demands', 'crops', 'meant', 'agricultural', 'systems', 'simplified', 'frequently', 'focused', 'single', 'crops', 'fields', 'full', 'single', 'crop', 'easily', 'found', 'insect']\n"
          ],
          "name": "stdout"
        }
      ]
    },
    {
      "cell_type": "code",
      "metadata": {
        "colab": {
          "base_uri": "https://localhost:8080/"
        },
        "id": "JX3Ue4OD65NL",
        "outputId": "4dba769c-6c51-404b-86da-58ecfc0dd873"
      },
      "source": [
        "import gensim.corpora as corpora\n",
        "\n",
        "# Create Dictionary\n",
        "id2word = corpora.Dictionary(data_words)\n",
        "\n",
        "# Create Corpus\n",
        "texts = data_words\n",
        "\n",
        "# Term Document Frequency\n",
        "corpus = [id2word.doc2bow(text) for text in texts]\n",
        "\n",
        "# View\n",
        "print(corpus[:1][0][:30])"
      ],
      "execution_count": null,
      "outputs": [
        {
          "output_type": "stream",
          "text": [
            "[(0, 1), (1, 1), (2, 3), (3, 9), (4, 2), (5, 1), (6, 1), (7, 2), (8, 1), (9, 1), (10, 1), (11, 1), (12, 1), (13, 1), (14, 1), (15, 1), (16, 9), (17, 2), (18, 1), (19, 1), (20, 1), (21, 1), (22, 1), (23, 1), (24, 1), (25, 1), (26, 1), (27, 1), (28, 6), (29, 1)]\n"
          ],
          "name": "stdout"
        }
      ]
    },
    {
      "cell_type": "code",
      "metadata": {
        "colab": {
          "base_uri": "https://localhost:8080/"
        },
        "id": "9ihLQzo06-vV",
        "outputId": "90546916-02f9-43cb-cb44-f098d3fbfb83"
      },
      "source": [
        "#Now we briefly train the model. \n",
        "\n",
        "from pprint import pprint\n",
        "\n",
        "# number of topics\n",
        "num_topics = 10\n",
        "\n",
        "# Build LDA model\n",
        "lda_model = gensim.models.LdaMulticore(corpus=corpus,\n",
        "                                       id2word=id2word,\n",
        "                                       num_topics=num_topics)\n",
        "\n",
        "# Print the Keyword in the 10 topics\n",
        "pprint(lda_model.print_topics())\n",
        "doc_lda = lda_model[corpus]"
      ],
      "execution_count": null,
      "outputs": [
        {
          "output_type": "stream",
          "text": [
            "[(0,\n",
            "  '0.005*\"new\" + 0.004*\"said\" + 0.004*\"one\" + 0.003*\"year\" + 0.003*\"soil\" + '\n",
            "  '0.003*\"johnson\" + 0.003*\"global\" + 0.003*\"also\" + 0.003*\"warming\" + '\n",
            "  '0.002*\"climate\"'),\n",
            " (1,\n",
            "  '0.004*\"said\" + 0.004*\"ozone\" + 0.004*\"new\" + 0.004*\"oil\" + 0.004*\"one\" + '\n",
            "  '0.004*\"also\" + 0.003*\"global\" + 0.003*\"pandemic\" + 0.003*\"last\" + '\n",
            "  '0.002*\"coronavirus\"'),\n",
            " (2,\n",
            "  '0.005*\"energy\" + 0.004*\"oil\" + 0.004*\"bitcoin\" + 0.003*\"johnson\" + '\n",
            "  '0.003*\"mining\" + 0.003*\"new\" + 0.003*\"rotten\" + 0.003*\"one\" + '\n",
            "  '0.003*\"pollution\" + 0.003*\"global\"'),\n",
            " (3,\n",
            "  '0.006*\"said\" + 0.005*\"global\" + 0.004*\"new\" + 0.004*\"warming\" + '\n",
            "  '0.004*\"would\" + 0.003*\"world\" + 0.003*\"one\" + 0.003*\"also\" + 0.003*\"hagel\" '\n",
            "  '+ 0.003*\"could\"'),\n",
            " (4,\n",
            "  '0.006*\"said\" + 0.005*\"ozone\" + 0.004*\"pandemic\" + 0.004*\"new\" + '\n",
            "  '0.003*\"global\" + 0.003*\"climate\" + 0.003*\"tomatoes\" + 0.003*\"world\" + '\n",
            "  '0.003*\"synopsis\" + 0.003*\"johnson\"'),\n",
            " (5,\n",
            "  '0.006*\"oil\" + 0.005*\"said\" + 0.004*\"industry\" + 0.004*\"rotten\" + '\n",
            "  '0.004*\"new\" + 0.004*\"johnson\" + 0.003*\"score\" + 0.003*\"one\" + '\n",
            "  '0.003*\"tomatoes\" + 0.003*\"pandemic\"'),\n",
            " (6,\n",
            "  '0.005*\"global\" + 0.004*\"new\" + 0.003*\"oil\" + 0.003*\"warming\" + 0.003*\"said\" '\n",
            "  '+ 0.003*\"could\" + 0.003*\"pandemic\" + 0.002*\"world\" + 0.002*\"like\" + '\n",
            "  '0.002*\"trump\"'),\n",
            " (7,\n",
            "  '0.004*\"pandemic\" + 0.004*\"global\" + 0.004*\"said\" + 0.004*\"one\" + '\n",
            "  '0.003*\"air\" + 0.003*\"pollution\" + 0.003*\"also\" + 0.002*\"years\" + '\n",
            "  '0.002*\"could\" + 0.002*\"year\"'),\n",
            " (8,\n",
            "  '0.005*\"global\" + 0.004*\"said\" + 0.004*\"new\" + 0.004*\"oil\" + 0.004*\"climate\" '\n",
            "  '+ 0.003*\"one\" + 0.003*\"pandemic\" + 0.003*\"also\" + 0.003*\"real\" + '\n",
            "  '0.002*\"two\"'),\n",
            " (9,\n",
            "  '0.004*\"one\" + 0.004*\"new\" + 0.003*\"global\" + 0.003*\"us\" + 0.003*\"said\" + '\n",
            "  '0.003*\"year\" + 0.003*\"like\" + 0.002*\"also\" + 0.002*\"great\" + '\n",
            "  '0.002*\"warming\"')]\n"
          ],
          "name": "stdout"
        }
      ]
    },
    {
      "cell_type": "markdown",
      "metadata": {
        "id": "bPOu3Q8J_-bH"
      },
      "source": [
        "Analysis: \"pandemic\", \"coronavirus\", \"oil\", and \"trump\" were severable notable topics being discussed commonly among the sampled articles. It appears that within the last year, many news articles were discussing the effect of the pandemic on climate change, which is very relevant to current times. In addition, it is expected that former president Trump would be discussed, as his policies and statements typically worked against fighting climate change - this would mean his name would circulate more in climate change news articles. "
      ]
    },
    {
      "cell_type": "markdown",
      "metadata": {
        "id": "J0UEyAmOARJt"
      },
      "source": [
        "V. Limitations \n",
        "There were several limitations to this project. \n",
        "1. English only articles - for the sake of performing analyses, I opted to use only English articles out of my dataset, while much useful data might have been gathered from articles in other languages. \n",
        "2. The climate change news articles published per year, although several news sources (most popular ones) were included in each dataset, there were likely other newspaper sources that were neglected. In addition, this dataset only looked at newspaper as opposed to television transcripts or other media sources, which might have provided a different view. \n",
        "3. Due to the very large size of English climate change articles in my dataset, I had to randomly and evenly sample papers as opposed to performing the LDA analysis on all of them. Given the time, I would have tried to import all 1000 papers into the spreadsheet to analyze topics from all of them. \n",
        "4. In general, many other ways climate change is being discussed (ex. social media) were neglected in this project, which would have provided major insight. \n",
        "\n",
        "In the future, I would like to analyze more papers, and apply matplotlib to data collected on sources other than newspaper articles."
      ]
    },
    {
      "cell_type": "markdown",
      "metadata": {
        "id": "iJUIKuX6AUwe"
      },
      "source": [
        "VI. Citations for Tutorials \n",
        "\n",
        " \n",
        "1. https://github.com/kapadias\n",
        "2. https://www.nltk.org/book/ch01.html\n",
        "3. https://pythonprogramming.net/sentiment-analysis-python-textblob-vader/\n",
        "https://towardsdatascience.com/end-to-end-topic-modeling-in-python-latent-dirichlet-allocation-lda-35ce4ed6b3e0\n"
      ]
    }
  ]
}